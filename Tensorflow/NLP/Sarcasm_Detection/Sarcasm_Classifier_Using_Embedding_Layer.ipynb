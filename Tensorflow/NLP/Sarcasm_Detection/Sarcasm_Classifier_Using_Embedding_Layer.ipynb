{
 "cells": [
  {
   "cell_type": "code",
   "execution_count": 1,
   "metadata": {},
   "outputs": [],
   "source": [
    "import json \n",
    "import tensorflow as tf\n",
    "from tensorflow.keras.preprocessing.text import Tokenizer\n",
    "from tensorflow.keras.preprocessing.sequence import pad_sequences"
   ]
  },
  {
   "cell_type": "markdown",
   "metadata": {},
   "source": [
    "### Hyper parameters"
   ]
  },
  {
   "cell_type": "code",
   "execution_count": 72,
   "metadata": {},
   "outputs": [],
   "source": [
    "vocab_size=1000 #try different values to get less loss\n",
    "embedding_dim=32\n",
    "max_length=32\n",
    "trunc_type='post'\n",
    "padding_type='post'\n",
    "oov_tok=\"<oov>\"\n",
    "training_size=20000"
   ]
  },
  {
   "cell_type": "markdown",
   "metadata": {},
   "source": [
    "## Reading Data"
   ]
  },
  {
   "cell_type": "code",
   "execution_count": 73,
   "metadata": {},
   "outputs": [],
   "source": [
    "with open(\"sarcasm.json\", 'r') as f:\n",
    "    datastore = json.load(f)\n",
    "    \n",
    "sentences = [] \n",
    "labels = []\n",
    "for item in datastore:\n",
    "    sentences.append(item['headline'])\n",
    "    labels.append(item['is_sarcastic'])"
   ]
  },
  {
   "cell_type": "markdown",
   "metadata": {},
   "source": [
    "## Splitting Data"
   ]
  },
  {
   "cell_type": "code",
   "execution_count": 74,
   "metadata": {},
   "outputs": [],
   "source": [
    "training_sentences=sentences[0:training_size]\n",
    "testing_sentences=sentences[training_size:]\n",
    "training_labels=labels[0:training_size]\n",
    "testing_labels=labels[training_size:]"
   ]
  },
  {
   "cell_type": "markdown",
   "metadata": {},
   "source": [
    "## Padding and Tokenizing"
   ]
  },
  {
   "cell_type": "code",
   "execution_count": 75,
   "metadata": {},
   "outputs": [],
   "source": [
    "tokenizer=Tokenizer(num_words=vocab_size,oov_token=oov_tok)\n",
    "tokenizer.fit_on_texts(training_sentences)\n",
    "word_index=tokenizer.word_index\n",
    "\n",
    "training_sequence=tokenizer.texts_to_sequences(training_sentences)\n",
    "training_padded=pad_sequences(training_sequence,maxlen=max_length,\n",
    "                              padding=padding_type,\n",
    "                              truncating=trunc_type)\n",
    "\n",
    "testing_sequence=tokenizer.texts_to_sequences(testing_sentences)\n",
    "testing_padded=pad_sequences(testing_sequence,maxlen=max_length,\n",
    "                              padding=padding_type,\n",
    "                              truncating=trunc_type)"
   ]
  },
  {
   "cell_type": "code",
   "execution_count": 76,
   "metadata": {},
   "outputs": [],
   "source": [
    "import numpy as np\n",
    "training_padded = np.array(training_padded)\n",
    "training_labels = np.array(training_labels)\n",
    "testing_padded = np.array(testing_padded)\n",
    "testing_labels = np.array(testing_labels)"
   ]
  },
  {
   "cell_type": "markdown",
   "metadata": {},
   "source": [
    "# Model"
   ]
  },
  {
   "cell_type": "code",
   "execution_count": 77,
   "metadata": {},
   "outputs": [
    {
     "name": "stdout",
     "output_type": "stream",
     "text": [
      "Model: \"sequential_8\"\n",
      "_________________________________________________________________\n",
      "Layer (type)                 Output Shape              Param #   \n",
      "=================================================================\n",
      "embedding_9 (Embedding)      (None, 32, 32)            32000     \n",
      "_________________________________________________________________\n",
      "global_average_pooling1d_7 ( (None, 32)                0         \n",
      "_________________________________________________________________\n",
      "dense_16 (Dense)             (None, 24)                792       \n",
      "_________________________________________________________________\n",
      "dense_17 (Dense)             (None, 1)                 25        \n",
      "=================================================================\n",
      "Total params: 32,817\n",
      "Trainable params: 32,817\n",
      "Non-trainable params: 0\n",
      "_________________________________________________________________\n"
     ]
    }
   ],
   "source": [
    "model=tf.keras.Sequential([\n",
    "    tf.keras.layers.Embedding(vocab_size,embedding_dim,input_length=max_length),\n",
    "    tf.keras.layers.GlobalAveragePooling1D(), #also can use Flatten for more accuracy but fear of overfit\n",
    "    tf.keras.layers.Dense(24,activation='relu'),\n",
    "    tf.keras.layers.Dense(1,activation='sigmoid')\n",
    "])\n",
    "model.compile(loss='binary_crossentropy',optimizer='adam',metrics=['accuracy'])\n",
    "model.summary()"
   ]
  },
  {
   "cell_type": "code",
   "execution_count": 78,
   "metadata": {},
   "outputs": [
    {
     "name": "stdout",
     "output_type": "stream",
     "text": [
      "Epoch 1/30\n",
      "625/625 - 2s - loss: 0.5677 - accuracy: 0.6941 - val_loss: 0.4465 - val_accuracy: 0.7898\n",
      "Epoch 2/30\n",
      "625/625 - 2s - loss: 0.3964 - accuracy: 0.8227 - val_loss: 0.4049 - val_accuracy: 0.8113\n",
      "Epoch 3/30\n",
      "625/625 - 2s - loss: 0.3700 - accuracy: 0.8334 - val_loss: 0.4025 - val_accuracy: 0.8158\n",
      "Epoch 4/30\n",
      "625/625 - 2s - loss: 0.3617 - accuracy: 0.8369 - val_loss: 0.4055 - val_accuracy: 0.8152\n",
      "Epoch 5/30\n",
      "625/625 - 2s - loss: 0.3570 - accuracy: 0.8368 - val_loss: 0.4047 - val_accuracy: 0.8126\n",
      "Epoch 6/30\n",
      "625/625 - 2s - loss: 0.3549 - accuracy: 0.8385 - val_loss: 0.4078 - val_accuracy: 0.8122\n",
      "Epoch 7/30\n",
      "625/625 - 2s - loss: 0.3542 - accuracy: 0.8382 - val_loss: 0.4149 - val_accuracy: 0.8071\n",
      "Epoch 8/30\n",
      "625/625 - 2s - loss: 0.3526 - accuracy: 0.8395 - val_loss: 0.4086 - val_accuracy: 0.8135\n",
      "Epoch 9/30\n",
      "625/625 - 2s - loss: 0.3529 - accuracy: 0.8403 - val_loss: 0.4101 - val_accuracy: 0.8110\n",
      "Epoch 10/30\n",
      "625/625 - 2s - loss: 0.3514 - accuracy: 0.8378 - val_loss: 0.4099 - val_accuracy: 0.8141\n",
      "Epoch 11/30\n",
      "625/625 - 2s - loss: 0.3511 - accuracy: 0.8411 - val_loss: 0.4106 - val_accuracy: 0.8132\n",
      "Epoch 12/30\n",
      "625/625 - 2s - loss: 0.3500 - accuracy: 0.8398 - val_loss: 0.4105 - val_accuracy: 0.8117\n",
      "Epoch 13/30\n",
      "625/625 - 2s - loss: 0.3489 - accuracy: 0.8431 - val_loss: 0.4122 - val_accuracy: 0.8095\n",
      "Epoch 14/30\n",
      "625/625 - 2s - loss: 0.3494 - accuracy: 0.8395 - val_loss: 0.4139 - val_accuracy: 0.8083\n",
      "Epoch 15/30\n",
      "625/625 - 2s - loss: 0.3474 - accuracy: 0.8415 - val_loss: 0.4145 - val_accuracy: 0.8074\n",
      "Epoch 16/30\n",
      "625/625 - 2s - loss: 0.3461 - accuracy: 0.8439 - val_loss: 0.4090 - val_accuracy: 0.8144\n",
      "Epoch 17/30\n",
      "625/625 - 2s - loss: 0.3449 - accuracy: 0.8425 - val_loss: 0.4070 - val_accuracy: 0.8110\n",
      "Epoch 18/30\n",
      "625/625 - 2s - loss: 0.3428 - accuracy: 0.8447 - val_loss: 0.4090 - val_accuracy: 0.8156\n",
      "Epoch 19/30\n",
      "625/625 - 3s - loss: 0.3407 - accuracy: 0.8458 - val_loss: 0.4042 - val_accuracy: 0.8153\n",
      "Epoch 20/30\n",
      "625/625 - 2s - loss: 0.3376 - accuracy: 0.8471 - val_loss: 0.4066 - val_accuracy: 0.8126\n",
      "Epoch 21/30\n",
      "625/625 - 2s - loss: 0.3363 - accuracy: 0.8464 - val_loss: 0.3994 - val_accuracy: 0.8162\n",
      "Epoch 22/30\n",
      "625/625 - 2s - loss: 0.3327 - accuracy: 0.8504 - val_loss: 0.3988 - val_accuracy: 0.8195\n",
      "Epoch 23/30\n",
      "625/625 - 2s - loss: 0.3308 - accuracy: 0.8524 - val_loss: 0.4047 - val_accuracy: 0.8120\n",
      "Epoch 24/30\n",
      "625/625 - 2s - loss: 0.3282 - accuracy: 0.8527 - val_loss: 0.3978 - val_accuracy: 0.8210\n",
      "Epoch 25/30\n",
      "625/625 - 2s - loss: 0.3268 - accuracy: 0.8540 - val_loss: 0.3983 - val_accuracy: 0.8208\n",
      "Epoch 26/30\n",
      "625/625 - 2s - loss: 0.3230 - accuracy: 0.8553 - val_loss: 0.3978 - val_accuracy: 0.8222\n",
      "Epoch 27/30\n",
      "625/625 - 2s - loss: 0.3210 - accuracy: 0.8577 - val_loss: 0.3980 - val_accuracy: 0.8225\n",
      "Epoch 28/30\n",
      "625/625 - 2s - loss: 0.3190 - accuracy: 0.8592 - val_loss: 0.4000 - val_accuracy: 0.8231\n",
      "Epoch 29/30\n",
      "625/625 - 2s - loss: 0.3171 - accuracy: 0.8591 - val_loss: 0.4032 - val_accuracy: 0.8192\n",
      "Epoch 30/30\n",
      "625/625 - 2s - loss: 0.3161 - accuracy: 0.8592 - val_loss: 0.4075 - val_accuracy: 0.8162\n"
     ]
    }
   ],
   "source": [
    "num_epochs=30\n",
    "history=model.fit(training_padded,training_labels,epochs=num_epochs,\n",
    "                  validation_data=(testing_padded,testing_labels),\n",
    "                  verbose=2)"
   ]
  },
  {
   "cell_type": "markdown",
   "metadata": {},
   "source": [
    "## Ploting accuracy and loss"
   ]
  },
  {
   "cell_type": "code",
   "execution_count": 79,
   "metadata": {},
   "outputs": [
    {
     "data": {
      "image/png": "[encoded data removed]",
      "text/plain": [
       "<Figure size 432x288 with 1 Axes>"
      ]
     },
     "metadata": {
      "needs_background": "light"
     },
     "output_type": "display_data"
    },
    {
     "data": {
      "image/png": "[encoded data removed]",
      "text/plain": [
       "<Figure size 432x288 with 1 Axes>"
      ]
     },
     "metadata": {
      "needs_background": "light"
     },
     "output_type": "display_data"
    }
   ],
   "source": [
    "import matplotlib.pyplot as plt\n",
    "\n",
    "\n",
    "def plot_graphs(history, string):\n",
    "    plt.plot(history.history[string])\n",
    "    plt.plot(history.history['val_'+string])\n",
    "    plt.xlabel(\"Epochs\")\n",
    "    plt.ylabel(string)\n",
    "    plt.legend([string, 'val_'+string])\n",
    "    plt.show()\n",
    "plot_graphs(history, \"accuracy\")\n",
    "plot_graphs(history, \"loss\")"
   ]
  },
  {
   "cell_type": "code",
   "execution_count": null,
   "metadata": {},
   "outputs": [],
   "source": []
  }
 ],
 "metadata": {
  "kernelspec": {
   "display_name": "Python 3",
   "language": "python",
   "name": "python3"
  },
  "language_info": {
   "codemirror_mode": {
    "name": "ipython",
    "version": 3
   },
   "file_extension": ".py",
   "mimetype": "text/x-python",
   "name": "python",
   "nbconvert_exporter": "python",
   "pygments_lexer": "ipython3",
   "version": "3.8.3"
  }
 },
 "nbformat": 4,
 "nbformat_minor": 4
}
